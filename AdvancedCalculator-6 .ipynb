{
 "cells": [
  {
   "cell_type": "code",
   "execution_count": 2,
   "id": "e5ae3ee0-628b-4643-8036-1a4de5deeb3d",
   "metadata": {},
   "outputs": [
    {
     "name": "stdin",
     "output_type": "stream",
     "text": [
      "Enter your first number:  30\n",
      "Enter your second number:  0\n",
      "Enter your operation (+, -, *, /):  /\n"
     ]
    },
    {
     "name": "stdout",
     "output_type": "stream",
     "text": [
      "Zero Division Error\n"
     ]
    }
   ],
   "source": [
    "# Get the first number from the user\n",
    "num1 = int(input(\"Enter your first number: \"))\n",
    "\n",
    "# Get the second number from the user\n",
    "num2 = int(input(\"Enter your second number: \"))\n",
    "\n",
    "# Get the operation input from the user\n",
    "operation = input(\"Enter your operation (+, -, *, /): \")\n",
    "\n",
    "# Perform the  operation based on the user's input\n",
    "if operation == \"+\":\n",
    "    print(num1 + num2)  \n",
    "elif operation == \"-\":\n",
    "    print(num1 - num2)  \n",
    "elif operation == \"*\":\n",
    "    print(num1 * num2)  \n",
    "elif operation == \"/\":\n",
    "   \n",
    "    if num2 != 0:\n",
    "        print(num1 / num2)  \n",
    "    # Try-except block to handle ZeroDivisionError\n",
    "    try:\n",
    "        result = num1 / num2 \n",
    "        print(result)\n",
    "    except ZeroDivisionError:\n",
    "        print(\"Zero Division Error\")  # Catch division by zero error\n",
    "else:\n",
    "    print(\"Invalid operation\")  # Handle invalid operation input\n",
    "\n",
    "                \n"
   ]
  }
 ],
 "metadata": {
  "kernelspec": {
   "display_name": "Python 3 (ipykernel)",
   "language": "python",
   "name": "python3"
  },
  "language_info": {
   "codemirror_mode": {
    "name": "ipython",
    "version": 3
   },
   "file_extension": ".py",
   "mimetype": "text/x-python",
   "name": "python",
   "nbconvert_exporter": "python",
   "pygments_lexer": "ipython3",
   "version": "3.12.4"
  }
 },
 "nbformat": 4,
 "nbformat_minor": 5
}
