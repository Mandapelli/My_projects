{
 "cells": [
  {
   "cell_type": "code",
   "execution_count": 1,
   "id": "29bde97d-aa32-4be0-be52-1097c5920f30",
   "metadata": {},
   "outputs": [
    {
     "name": "stdin",
     "output_type": "stream",
     "text": [
      "Enter a city name:  Madhapur\n"
     ]
    },
    {
     "name": "stdout",
     "output_type": "stream",
     "text": [
      "Weather report for Madhapur:\n",
      "Temperature: 25°C\n",
      "Condition: Sunny\n",
      "Humidity: 40%\n"
     ]
    },
    {
     "name": "stdin",
     "output_type": "stream",
     "text": [
      "Would you like to check another city? (yes/no):  yes\n",
      "Enter a city name:  Warangal\n"
     ]
    },
    {
     "name": "stdout",
     "output_type": "stream",
     "text": [
      "Weather report for Warangal:\n",
      "Temperature: 15°C\n",
      "Condition: Cloudy\n",
      "Humidity: 70%\n"
     ]
    },
    {
     "name": "stdin",
     "output_type": "stream",
     "text": [
      "Would you like to check another city? (yes/no):  no\n"
     ]
    },
    {
     "name": "stdout",
     "output_type": "stream",
     "text": [
      "Thank you for using the weather lookup!\n"
     ]
    }
   ],
   "source": [
    "# Mock weather data for various cities stored in a dictionary\n",
    "weather_data = {\n",
    "    \"Madhapur\": {\"temp\": 25, \"condition\": \"Sunny\", \"humidity\": 40},\n",
    "    \"Warangal\": {\"temp\": 15, \"condition\": \"Cloudy\", \"humidity\": 70},\n",
    "    \"Nalgonda\": {\"temp\": 22, \"condition\": \"Windy\", \"humidity\": 50},\n",
    "}\n",
    "\n",
    "def get_weather_report():\n",
    "    city = input(\"Enter a city name: \").title()  # Convert city name to title case\n",
    "\n",
    "     # Check if the city is in the weather data\n",
    "    if city in weather_data:\n",
    "        city_info = weather_data[city]\n",
    "        print(f\"Weather report for {city}:\")\n",
    "        print(f\"Temperature: {city_info['temp']}°C\")\n",
    "        print(f\"Condition: {city_info['condition']}\")\n",
    "        print(f\"Humidity: {city_info['humidity']}%\")\n",
    "    else:\n",
    "        print(f\"Error: {city} is not in the weather database. Please try another city.\")\n",
    "\n",
    "\n",
    "# Function to start the program\n",
    "def main():\n",
    "    while True:\n",
    "        get_weather_report() \n",
    "        \n",
    "        # Ask user if they want to check another city\n",
    "        check_another = input(\"Would you like to check another city? (yes/no): \").lower()\n",
    "        if check_another != 'yes':\n",
    "            print(\"Thank you for using the weather lookup!\")\n",
    "            break\n",
    "\n",
    "\n",
    "main()"
   ]
  }
 ],
 "metadata": {
  "kernelspec": {
   "display_name": "Python 3 (ipykernel)",
   "language": "python",
   "name": "python3"
  },
  "language_info": {
   "codemirror_mode": {
    "name": "ipython",
    "version": 3
   },
   "file_extension": ".py",
   "mimetype": "text/x-python",
   "name": "python",
   "nbconvert_exporter": "python",
   "pygments_lexer": "ipython3",
   "version": "3.12.4"
  }
 },
 "nbformat": 4,
 "nbformat_minor": 5
}
