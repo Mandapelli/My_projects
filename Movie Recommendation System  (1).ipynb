{
 "cells": [
  {
   "cell_type": "code",
   "execution_count": 6,
   "id": "e20bd99e-6d97-4bd5-b5f9-9b9c0c5008e9",
   "metadata": {},
   "outputs": [
    {
     "name": "stdin",
     "output_type": "stream",
     "text": [
      "Enter your name:  mounika\n"
     ]
    },
    {
     "name": "stdout",
     "output_type": "stream",
     "text": [
      "No preferences found for Mounika.\n"
     ]
    },
    {
     "name": "stdin",
     "output_type": "stream",
     "text": [
      "Enter your name:  sruthi\n"
     ]
    },
    {
     "name": "stdout",
     "output_type": "stream",
     "text": [
      "Recommendations for Sruthi: Baahubali, Geetha Govindam, Arjun Reddy, RRR\n"
     ]
    },
    {
     "name": "stdin",
     "output_type": "stream",
     "text": [
      "Enter your name:  adithya\n"
     ]
    },
    {
     "name": "stdout",
     "output_type": "stream",
     "text": [
      "Recommendations for Adithya: Mahanati, Eega\n"
     ]
    },
    {
     "name": "stdin",
     "output_type": "stream",
     "text": [
      "Enter your name:  0\n"
     ]
    },
    {
     "name": "stdout",
     "output_type": "stream",
     "text": [
      "Exiting the movie recommendation system. Goodbye!\n"
     ]
    }
   ],
   "source": [
    "# Sample Telugu movie data (list of dictionaries)\n",
    "movies = [\n",
    "    {\"title\": \"RRR\", \"genre\": \"Action\"},\n",
    "    {\"title\": \"Eega\", \"genre\": \"Fantasy\"},\n",
    "    {\"title\": \"Magadheera\", \"genre\": \"Historical\"},\n",
    "    {\"title\": \"Ala Vaikunthapurramuloo\", \"genre\": \"Drama\"},\n",
    "    {\"title\": \"Arjun Reddy\", \"genre\": \"Romance\"},\n",
    "    {\"title\": \"Mahanati\", \"genre\": \"Biographical\"},\n",
    "    {\"title\": \"Geetha Govindam\", \"genre\": \"Romance\"},\n",
    "    {\"title\": \"Baahubali\", \"genre\": \"Action\"},\n",
    "]\n",
    "\n",
    "# User preferences (dictionaries: user -> preferred genres)\n",
    "user_preferences = {\n",
    "    \"Ravi\": {\"Action\", \"Historical\"},\n",
    "    \"Arjun\": {\"Romance\", \"Drama\"},\n",
    "    \"Adithya\": {\"Fantasy\", \"Biographical\"},\n",
    "    \"Sruthi\": {\"Action\", \"Romance\"},\n",
    "}\n",
    "\n",
    "# Function to recommend movies based on user preferences\n",
    "def recommend_movies(user):\n",
    "    recommendations = set()  # Using a set to avoid duplicate recommendations\n",
    "    preferred_genres = user_preferences.get(user, set())\n",
    "    \n",
    "    if not preferred_genres:\n",
    "        print(f\"No preferences found for {user}.\")\n",
    "        return\n",
    "    \n",
    "    # Loop through the list of movies and match with user preferences\n",
    "    for movie in movies:\n",
    "        if movie[\"genre\"] in preferred_genres:\n",
    "            recommendations.add(movie[\"title\"])\n",
    "    \n",
    "    # Output the recommendations\n",
    "    if recommendations:\n",
    "        print(f\"Recommendations for {user}: {', '.join(recommendations)}\")\n",
    "    else:\n",
    "        print(f\"No movie recommendations available for {user}.\")\n",
    "\n",
    "# Continuous loop to ask for user input\n",
    "while True:\n",
    "    user_input = input(\"Enter your name: \").title()\n",
    "   \n",
    "\n",
    "    if  user_input==\"0\":\n",
    "        print(\"Exiting the movie recommendation system. Goodbye!\")\n",
    "        break\n",
    "    recommend_movies(user_input)\n",
    "   \n",
    "    \n",
    "    \n"
   ]
  },
  {
   "cell_type": "code",
   "execution_count": null,
   "id": "642a964a-ae78-4eea-9c12-c66f11d7002c",
   "metadata": {},
   "outputs": [],
   "source": [
    "# Initialize genres and movie list\n",
    "genres = set()  # This will store unique genres\n",
    "\n",
    "# List of movie dictionaries, each containing a title and genre\n",
    "movies = [\n",
    "    {\"title\": 'Persuit of Happyness', \"genre\": 'Sentimental'},\n",
    "    {\"title\": 'Avengers', \"genre\": 'Scientific'},\n",
    "    {\"title\": 'Interstellar', \"genre\": 'Scientific'},\n",
    "    {\"title\": 'Predestination', \"genre\": 'Sentimental'},\n",
    "    {\"title\": 'Chandamama', \"genre\": 'Family'},\n",
    "    {\"title\": 'Tulasi', \"genre\": 'Romance'},\n",
    "    {\"title\": 'Love Story', \"genre\": 'Romance'},\n",
    "    {\"title\": 'Devara', \"genre\": 'Action'},\n",
    "    {\"title\": 'Hit', \"genre\": 'Crime'}\n",
    "]\n",
    "\n",
    "# Populate the 'genres' set with unique genres from the 'movies' list\n",
    "for item in movies:\n",
    "    genres.add(item[\"genre\"])\n",
    "\n",
    "# Function to recommend movies based on the user's selected genre\n",
    "def movieRecommendation():\n",
    "    print(\"****WELCOME to Movie Recommendation System****\")\n",
    "    \n",
    "    # Display the list of available genres\n",
    "    print(\"These are the genres you have : \", genres)\n",
    "    genre1=input(\"Enter your preferred genre : \").capitalize()\n",
    "    \n",
    "    # Initialize a flag to check if any movies are found for the selected genre\n",
    "    found = False\n",
    "    \n",
    "    # Loop through the movies to find matches for the selected genre\n",
    "    for movie in movies:\n",
    "        if movie['genre'] == genre1:  \n",
    "            print(\"Here are your movie recommendations :\", movie['title'])\n",
    "            found = True\n",
    "    \n",
    "    # Inform the user if no movies are found for the selected genre\n",
    "    if not found:\n",
    "        print(\"Sorry, no movies found for that genre. Please try again.\")\n",
    "\n",
    "# Main program loop to keep asking for user input until they choose to exit\n",
    "while True:\n",
    "    print(\"Please enter 1 for Movie Recommendation and 0 to Exit\")\n",
    "    \n",
    "    # Get user input to either recommend movies or exit\n",
    "    choice = int(input(\"Enter a number: \"))\n",
    "    \n",
    "    # If the user selects 1, call the movie recommendation function\n",
    "    if choice == 1:\n",
    "        movieRecommendation()\n",
    "    \n",
    "    # If the user selects 0, break the loop and exit the program\n",
    "    elif choice == 0:\n",
    "        break\n",
    "    \n",
    "    # Handle invalid inputs that are not 1 or 0\n",
    "    else:\n",
    "        print(\"Please enter a valid number (1 for recommendation, 0 to exit)\")"
   ]
  }
 ],
 "metadata": {
  "kernelspec": {
   "display_name": "Python 3 (ipykernel)",
   "language": "python",
   "name": "python3"
  },
  "language_info": {
   "codemirror_mode": {
    "name": "ipython",
    "version": 3
   },
   "file_extension": ".py",
   "mimetype": "text/x-python",
   "name": "python",
   "nbconvert_exporter": "python",
   "pygments_lexer": "ipython3",
   "version": "3.12.4"
  }
 },
 "nbformat": 4,
 "nbformat_minor": 5
}
