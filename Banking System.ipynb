{
 "cells": [
  {
   "cell_type": "code",
   "execution_count": 1,
   "id": "f3587e3d-a344-47ca-9c0e-987509b53d68",
   "metadata": {},
   "outputs": [
    {
     "name": "stdout",
     "output_type": "stream",
     "text": [
      "Press 1 to check balance\n",
      "Press 2 to deposit money\n",
      "Press 3 to withdraw money\n"
     ]
    },
    {
     "name": "stdin",
     "output_type": "stream",
     "text": [
      "Enter your choice:  1\n"
     ]
    },
    {
     "name": "stdout",
     "output_type": "stream",
     "text": [
      "Total balance in your account: 50000\n"
     ]
    },
    {
     "name": "stdin",
     "output_type": "stream",
     "text": [
      "Enter 1 to Continue or 0 to Exit:  1\n"
     ]
    },
    {
     "name": "stdout",
     "output_type": "stream",
     "text": [
      "Press 1 to check balance\n",
      "Press 2 to deposit money\n",
      "Press 3 to withdraw money\n"
     ]
    },
    {
     "name": "stdin",
     "output_type": "stream",
     "text": [
      "Enter your choice:  2\n",
      "Enter deposit amount:  20000\n"
     ]
    },
    {
     "name": "stdout",
     "output_type": "stream",
     "text": [
      "Total balance after deposit: 70000\n"
     ]
    },
    {
     "name": "stdin",
     "output_type": "stream",
     "text": [
      "Enter 1 to Continue or 0 to Exit:  1\n"
     ]
    },
    {
     "name": "stdout",
     "output_type": "stream",
     "text": [
      "Press 1 to check balance\n",
      "Press 2 to deposit money\n",
      "Press 3 to withdraw money\n"
     ]
    },
    {
     "name": "stdin",
     "output_type": "stream",
     "text": [
      "Enter your choice:  3\n",
      "Enter withdraw amount:  3000\n"
     ]
    },
    {
     "name": "stdout",
     "output_type": "stream",
     "text": [
      "Total balance after withdrawal: 67000\n"
     ]
    },
    {
     "name": "stdin",
     "output_type": "stream",
     "text": [
      "Enter 1 to Continue or 0 to Exit:  0\n"
     ]
    }
   ],
   "source": [
    "# Initial total balance\n",
    "Total_amount = 50000\n",
    "\n",
    "# Infinite loop to continuously ask for operations until user decides to exit\n",
    "while True:\n",
    "    # Function to check the balance\n",
    "    def Check_balance():\n",
    "        print(\"Total balance in your account:\", Total_amount)\n",
    "        \n",
    "    # Function to deposit money\n",
    "    def deposit():\n",
    "        global Total_amount  \n",
    "        dep_amount = int(input(\"Enter deposit amount: \")) \n",
    "        Total_amount += dep_amount  \n",
    "        print(\"Total balance after deposit:\", Total_amount)\n",
    "\n",
    "    # Function to withdraw money\n",
    "    def withdraw():\n",
    "        global Total_amount  \n",
    "        withdraw_amount = int(input(\"Enter withdraw amount: \"))  \n",
    "        if withdraw_amount > Total_amount: \n",
    "            print(\"Insufficient balance!\")  \n",
    "        else:\n",
    "            Total_amount -= withdraw_amount  \n",
    "            print(\"Total balance after withdrawal:\", Total_amount)\n",
    "        \n",
    "    # Display menu options\n",
    "    print(\"Press 1 to check balance\")\n",
    "    print(\"Press 2 to deposit money\")\n",
    "    print(\"Press 3 to withdraw money\")\n",
    "    \n",
    "    # Get the user's choice\n",
    "    num = int(input(\"Enter your choice: \"))\n",
    "    \n",
    "    # Perform the corresponding operation based on the user's input\n",
    "    if num == 1:\n",
    "        Check_balance()\n",
    "    elif num == 2:\n",
    "        deposit()\n",
    "    elif num == 3:\n",
    "        withdraw()\n",
    "    \n",
    "    # Ask the user if they want to continue or exit\n",
    "    res = int(input(\"Enter 1 to Continue or 0 to Exit: \")) \n",
    "    if res == 1:\n",
    "        continue  # Loop back to the start if the user wants to continue\n",
    "    elif res == 0:\n",
    "        break  # Exit the loop if the user wants to stop\n",
    "    else:\n",
    "        print(\"Invalid input\")  \n",
    "\n",
    "    "
   ]
  },
  {
   "cell_type": "code",
   "execution_count": null,
   "id": "791b5991-9da8-4ca2-bd37-62b928cb0ba4",
   "metadata": {},
   "outputs": [],
   "source": []
  }
 ],
 "metadata": {
  "kernelspec": {
   "display_name": "Python 3 (ipykernel)",
   "language": "python",
   "name": "python3"
  },
  "language_info": {
   "codemirror_mode": {
    "name": "ipython",
    "version": 3
   },
   "file_extension": ".py",
   "mimetype": "text/x-python",
   "name": "python",
   "nbconvert_exporter": "python",
   "pygments_lexer": "ipython3",
   "version": "3.12.4"
  }
 },
 "nbformat": 4,
 "nbformat_minor": 5
}
