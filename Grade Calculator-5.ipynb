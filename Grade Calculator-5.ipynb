{
 "cells": [
  {
   "cell_type": "code",
   "execution_count": 4,
   "id": "9b94ad3e-1c97-4cff-9ffe-7b64bce869dc",
   "metadata": {},
   "outputs": [
    {
     "name": "stdin",
     "output_type": "stream",
     "text": [
      "Enter the number of subjects: 6\n",
      "Enter number of marks in first_language(Telugu)  :  90\n",
      "Enter number of marks in second_language(hindi) :  50\n",
      "Enter number of marks in English :  89\n",
      "Enter number of marks in Maths :  70\n",
      "Enter number of marks in Sceince:  50\n",
      "Enter number of marks in Social :  70\n"
     ]
    },
    {
     "name": "stdout",
     "output_type": "stream",
     "text": [
      "Your grade is:  C\n",
      "Needs improvement\n"
     ]
    }
   ],
   "source": [
    "num_of_Subjects =int(input(\"Enter the number of subjects:\"))\n",
    "sub1=float(input(\"Enter number of marks in first_language(Telugu)  : \"))\n",
    "sub2=float(input(\"Enter number of marks in second_language(hindi) : \"))\n",
    "sub3=float(input(\"Enter number of marks in English : \"))\n",
    "sub4=float(input(\"Enter number of marks in Maths : \"))\n",
    "sub5=float(input(\"Enter number of marks in Sceince: \"))\n",
    "sub6=float(input(\"Enter number of marks in Social : \"))\n",
    "\n",
    "Total_Score = sub1+sub2+sub3+sub4+sub5+sub6\n",
    "average_Score = Total_Score/num_of_Subjects\n",
    "\n",
    "if average_Score>=90 and average_Score<=90 :\n",
    "    print(\"Your grade is:O\")\n",
    "    print(\"Excellent Score\")\n",
    "elif average_Score>=80 and average_Score<90:\n",
    "     print(\"Your grade is:  A\")\n",
    "     print(\"good Score\")\n",
    "elif average_Score>=70 and average_Score<80:\n",
    "     print(\"Your grade is:  B\")\n",
    "     print(\"Good job\")\n",
    "elif average_Score>=60 and average_Score<70:\n",
    "     print(\"Your grade is:  C\")\n",
    "     print(\"Needs improvement\")\n",
    "elif average_Score>=50 and average_Score<60:\n",
    "     print(\"Your grade is:  D\")\n",
    "     print(\"You should improve your Score\")\n",
    "elif average_Score>=40 and average_Score<50:\n",
    "     print(\"Your grade is:  F\")\n",
    "     print(\"You Failed,But its fine ,You can try hard  \")"
   ]
  }
 ],
 "metadata": {
  "kernelspec": {
   "display_name": "Python 3 (ipykernel)",
   "language": "python",
   "name": "python3"
  },
  "language_info": {
   "codemirror_mode": {
    "name": "ipython",
    "version": 3
   },
   "file_extension": ".py",
   "mimetype": "text/x-python",
   "name": "python",
   "nbconvert_exporter": "python",
   "pygments_lexer": "ipython3",
   "version": "3.12.4"
  }
 },
 "nbformat": 4,
 "nbformat_minor": 5
}
