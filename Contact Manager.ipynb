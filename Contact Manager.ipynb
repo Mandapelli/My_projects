{
 "cells": [
  {
   "cell_type": "code",
   "execution_count": null,
   "id": "4a197e27-6b81-4bbb-b54b-40d3ddc4e582",
   "metadata": {},
   "outputs": [
    {
     "name": "stdout",
     "output_type": "stream",
     "text": [
      "1. Add Contact\n",
      "2. Display All Contacts\n",
      "3. Search Contact\n",
      "4. Update Contact\n",
      "5. Filter Contacts by Email Domain (e.g., Gmail)\n",
      "6. Exit\n"
     ]
    },
    {
     "name": "stdin",
     "output_type": "stream",
     "text": [
      "Enter your choice (1-6):  1\n",
      "Enter contact name:  mounika\n",
      "Enter phone number:  8639000830\n",
      "Enter email address:  mounik\n"
     ]
    },
    {
     "name": "stdout",
     "output_type": "stream",
     "text": [
      "Contact 'mounika' added successfully!\n",
      "\n",
      "1. Add Contact\n",
      "2. Display All Contacts\n",
      "3. Search Contact\n",
      "4. Update Contact\n",
      "5. Filter Contacts by Email Domain (e.g., Gmail)\n",
      "6. Exit\n"
     ]
    },
    {
     "name": "stdin",
     "output_type": "stream",
     "text": [
      "Enter your choice (1-6):  1\n",
      "Enter contact name:  eshwar\n",
      "Enter phone number:  789456123\n",
      "Enter email address:  eshwar@gmail.com\n"
     ]
    },
    {
     "name": "stdout",
     "output_type": "stream",
     "text": [
      "Contact 'eshwar' added successfully!\n",
      "\n",
      "1. Add Contact\n",
      "2. Display All Contacts\n",
      "3. Search Contact\n",
      "4. Update Contact\n",
      "5. Filter Contacts by Email Domain (e.g., Gmail)\n",
      "6. Exit\n"
     ]
    },
    {
     "name": "stdin",
     "output_type": "stream",
     "text": [
      "Enter your choice (1-6):  2\n"
     ]
    },
    {
     "name": "stdout",
     "output_type": "stream",
     "text": [
      "Name: mounika, Phone: 8639000830, Email: mounik\n",
      "Name: eshwar, Phone: 789456123, Email: eshwar@gmail.com\n",
      "\n",
      "\n",
      "1. Add Contact\n",
      "2. Display All Contacts\n",
      "3. Search Contact\n",
      "4. Update Contact\n",
      "5. Filter Contacts by Email Domain (e.g., Gmail)\n",
      "6. Exit\n"
     ]
    },
    {
     "name": "stdin",
     "output_type": "stream",
     "text": [
      "Enter your choice (1-6):  3\n",
      "Enter the name of the contact to search:  eshwar\n"
     ]
    },
    {
     "name": "stdout",
     "output_type": "stream",
     "text": [
      "Contact found - Name: eshwar, Phone: 789456123, Email: eshwar@gmail.com\n",
      "\n",
      "1. Add Contact\n",
      "2. Display All Contacts\n",
      "3. Search Contact\n",
      "4. Update Contact\n",
      "5. Filter Contacts by Email Domain (e.g., Gmail)\n",
      "6. Exit\n"
     ]
    },
    {
     "name": "stdin",
     "output_type": "stream",
     "text": [
      "Enter your choice (1-6):  4\n",
      "Enter the name of the contact to update:  eshwar\n"
     ]
    },
    {
     "name": "stdout",
     "output_type": "stream",
     "text": [
      "Current details - Phone: 789456123, Email: eshwar@gmail.com\n"
     ]
    },
    {
     "name": "stdin",
     "output_type": "stream",
     "text": [
      "Enter new phone number (leave blank to keep unchanged):  7865493\n"
     ]
    }
   ],
   "source": [
    "# Global dictionary to store contacts\n",
    "contacts = {}\n",
    "\n",
    "def add_contact():\n",
    "    name = input(\"Enter contact name: \")\n",
    "    if name in contacts:\n",
    "        print(f\"Contact '{name}' already exists. Use update option to modify.\\n\")\n",
    "    else:\n",
    "        phone = int(input(\"Enter phone number: \"))\n",
    "        email = input(\"Enter email address: \")\n",
    "\n",
    "        # Add new contact to the dictionary\n",
    "        contacts[name] = {'phone': phone, 'email': email}\n",
    "        print(f\"Contact '{name}' added successfully!\\n\")\n",
    "\n",
    "def display_contacts():\n",
    "   \n",
    "    for name, details in contacts.items():\n",
    "        print(f\"Name: {name}, Phone: {details['phone']}, Email: {details['email']}\")\n",
    "    print(\"\\n\")\n",
    "\n",
    "def search_contact():\n",
    "    name = input(\"Enter the name of the contact to search: \")\n",
    "    if name in contacts:\n",
    "        print(f\"Contact found - Name: {name}, Phone: {contacts[name]['phone']}, Email: {contacts[name]['email']}\\n\")\n",
    "    else:\n",
    "        print(f\"Contact '{name}' not found.\\n\")\n",
    "\n",
    "def update_contact():\n",
    "    name = input(\"Enter the name of the contact to update: \")\n",
    "    if name in contacts:\n",
    "        print(f\"Current details - Phone: {contacts[name]['phone']}, Email: {contacts[name]['email']}\")\n",
    "        phone = input(\"Enter new phone number (leave blank to keep unchanged): \")\n",
    "        email = input(\"Enter new email address (leave blank to keep unchanged): \")\n",
    "\n",
    "        # Update only if the user enters something\n",
    "        if phone:\n",
    "            contacts[name]['phone'] = phone\n",
    "        if email:\n",
    "            contacts[name]['email'] = email\n",
    "        print(f\"Contact '{name}' updated successfully!\\n\")\n",
    "    else:\n",
    "        print(f\"Contact '{name}' not found.\\n\")\n",
    "\n",
    "def filter_contact(domain=\"gmail.com\"):\n",
    "    # Dictionary comprehension to filter contacts by email domain\n",
    "    filtered_contacts = {name: details for name, details in contacts.items() if details['email'].endswith(domain)}\n",
    "    print(f\"Contacts with email domain '{domain}':\")\n",
    "    for name, details in filtered_contacts.items():\n",
    "        print(f\"Name: {name}, Phone: {details['phone']}, Email: {details['email']}\")\n",
    "    print(\"\\n\")\n",
    "\n",
    "def contact_manager():\n",
    "    while True:\n",
    "        print(\"1. Add Contact\")\n",
    "        print(\"2. Display All Contacts\")\n",
    "        print(\"3. Search Contact\")\n",
    "        print(\"4. Update Contact\")\n",
    "        print(\"5. Filter Contacts by Email Domain (e.g., Gmail)\")\n",
    "        print(\"6. Exit\")\n",
    "\n",
    "        choice = int(input(\"Enter your choice (1-6): \"))\n",
    "\n",
    "        if choice == 1:\n",
    "            add_contact()\n",
    "        elif choice == 2:\n",
    "            display_contacts()\n",
    "        elif choice == 3:\n",
    "            search_contact()\n",
    "        elif choice == 4:\n",
    "            update_contact()\n",
    "        elif choice == 5:\n",
    "            domain = input(\"Enter email domain to filter (default is 'gmail.com'): \") or \"gmail.com\"\n",
    "            filter_contact(domain)\n",
    "        elif choice == 6:\n",
    "            print(\"Exiting Contact Manager. Goodbye!\")\n",
    "            break\n",
    "        else:\n",
    "            print(\"Invalid choice! Please enter a valid option\")\n",
    "contact_manager()"
   ]
  },
  {
   "cell_type": "code",
   "execution_count": null,
   "id": "b9a1d24b-00dc-4f0c-8b7d-826af80c6b27",
   "metadata": {},
   "outputs": [],
   "source": []
  }
 ],
 "metadata": {
  "kernelspec": {
   "display_name": "Python 3 (ipykernel)",
   "language": "python",
   "name": "python3"
  },
  "language_info": {
   "codemirror_mode": {
    "name": "ipython",
    "version": 3
   },
   "file_extension": ".py",
   "mimetype": "text/x-python",
   "name": "python",
   "nbconvert_exporter": "python",
   "pygments_lexer": "ipython3",
   "version": "3.12.4"
  }
 },
 "nbformat": 4,
 "nbformat_minor": 5
}
